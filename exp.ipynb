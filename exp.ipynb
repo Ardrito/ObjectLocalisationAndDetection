{
 "cells": [
  {
   "cell_type": "code",
   "execution_count": 62,
   "id": "8184d379",
   "metadata": {},
   "outputs": [],
   "source": [
    "import transformers\n",
    "\n",
    "import torch\n",
    "from torch.utils.data import Dataset, DataLoader\n",
    "import torch.nn as nn\n",
    "import torch.nn.functional as F\n",
    "\n",
    "from tqdm import tqdm\n",
    "\n",
    "from torchvision.transforms import Compose, Resize, CenterCrop\n",
    "\n",
    "from datasets import load_from_disk\n",
    "\n",
    "\n",
    "from PIL import Image\n",
    "\n",
    "import matplotlib.pyplot as plt\n",
    "\n",
    "\n",
    "from peft import get_peft_model, LoraConfig, TaskType"
   ]
  },
  {
   "cell_type": "code",
   "execution_count": 39,
   "id": "51829d81",
   "metadata": {},
   "outputs": [],
   "source": [
    "flickr = load_from_disk(\"flickr30k_dataset/\")\n",
    "\n",
    "split = flickr['test'].train_test_split(train_size=0.9, seed=42)\n",
    "\n",
    "train_set = split['train']\n",
    "val_set = split['test']"
   ]
  },
  {
   "cell_type": "code",
   "execution_count": 66,
   "id": "940a9b42",
   "metadata": {},
   "outputs": [],
   "source": [
    "tokenizer = transformers.AutoTokenizer.from_pretrained('meta-llama/Llama-3.2-1B')\n",
    "llama = transformers.AutoModelForCausalLM.from_pretrained(\n",
    "    'meta-llama/Llama-3.2-1B',\n",
    "    torch_dtype=torch.float16\n",
    ").cuda()"
   ]
  },
  {
   "cell_type": "code",
   "execution_count": 45,
   "id": "8657433d",
   "metadata": {},
   "outputs": [],
   "source": [
    "tokenizer.pad_token = tokenizer.eos_token "
   ]
  },
  {
   "cell_type": "code",
   "execution_count": null,
   "id": "4ff75c48",
   "metadata": {},
   "outputs": [],
   "source": [
    "CLIP_model_id = \"openai/clip-vit-large-patch14-336\"\n",
    "CLIP = transformers.CLIPModel.from_pretrained(CLIP_model_id, torch_dtype=torch.float16).cuda()\n",
    "processor = transformers.CLIPProcessor.from_pretrained(CLIP_model_id)#\n",
    "\n",
    "CLIP.eval()\n",
    "for param in CLIP.parameters(): param.requires_grad = False"
   ]
  },
  {
   "cell_type": "code",
   "execution_count": null,
   "id": "57c94fed",
   "metadata": {},
   "outputs": [],
   "source": []
  },
  {
   "cell_type": "code",
   "execution_count": 14,
   "id": "95e5252b",
   "metadata": {},
   "outputs": [],
   "source": [
    "image = Image.open(\"example.jpg\")\n"
   ]
  },
  {
   "cell_type": "code",
   "execution_count": 34,
   "id": "9e068607",
   "metadata": {},
   "outputs": [
    {
     "name": "stdout",
     "output_type": "stream",
     "text": [
      "torch.Size([1, 768])\n"
     ]
    }
   ],
   "source": [
    "inputs = processor(images=image, return_tensors=\"pt\").to(\"cuda\")\n",
    "with torch.no_grad():\n",
    "    image_embeds = CLIP.get_image_features(**inputs)\n",
    "\n",
    "print(image_embeds.shape)  "
   ]
  },
  {
   "cell_type": "code",
   "execution_count": null,
   "id": "eb47315b",
   "metadata": {},
   "outputs": [
    {
     "name": "stdout",
     "output_type": "stream",
     "text": [
      "Opening in existing browser session.\n"
     ]
    }
   ],
   "source": [
    "transform = Compose([\n",
    "    Resize(336, interpolation=Image.BICUBIC),\n",
    "    CenterCrop(336),\n",
    "])\n",
    "\n",
    "resized_image = transform(image)\n",
    "resized_image.show()"
   ]
  },
  {
   "cell_type": "code",
   "execution_count": 52,
   "id": "f322cc2b",
   "metadata": {},
   "outputs": [],
   "source": [
    "class flickr_dataset(Dataset):\n",
    "    def __init__(self, data, tokenizer=tokenizer, processor=processor):\n",
    "        self.images = data['image']\n",
    "        self.caption = data['caption']\n",
    "        self.tokenizer = tokenizer\n",
    "        self.processor = processor\n",
    "        \n",
    "\n",
    "\n",
    "    def __len__(self):\n",
    "        return len(self.images)\n",
    "    \n",
    "    def __getitem__(self, index):\n",
    "        img = self.images[index]\n",
    "        caption =self.caption[index]\n",
    "        encoded = self.tokenizer(caption, return_tensors=\"pt\", padding=\"max_length\", truncation=True)\n",
    "\n",
    "        return self.processor(images=img, return_tensors='pt'), (encoded)\n"
   ]
  },
  {
   "cell_type": "code",
   "execution_count": 53,
   "id": "824cf612",
   "metadata": {},
   "outputs": [],
   "source": [
    "data = flickr_dataset(val_set)"
   ]
  },
  {
   "cell_type": "code",
   "execution_count": 57,
   "id": "c5822458",
   "metadata": {},
   "outputs": [
    {
     "data": {
      "text/plain": [
       "{'input_ids': tensor([[128000,     32,    893,  ..., 128001, 128001, 128001],\n",
       "        [128000,  11874,   3026,  ..., 128001, 128001, 128001],\n",
       "        [128000,   1692,  18186,  ..., 128001, 128001, 128001],\n",
       "        [128000,     32,    893,  ..., 128001, 128001, 128001],\n",
       "        [128000,  11874,   3026,  ..., 128001, 128001, 128001]]), 'attention_mask': tensor([[1, 1, 1,  ..., 0, 0, 0],\n",
       "        [1, 1, 1,  ..., 0, 0, 0],\n",
       "        [1, 1, 1,  ..., 0, 0, 0],\n",
       "        [1, 1, 1,  ..., 0, 0, 0],\n",
       "        [1, 1, 1,  ..., 0, 0, 0]])}"
      ]
     },
     "execution_count": 57,
     "metadata": {},
     "output_type": "execute_result"
    }
   ],
   "source": [
    "data[0][1]"
   ]
  },
  {
   "cell_type": "code",
   "execution_count": 58,
   "id": "3ed1aaa7",
   "metadata": {},
   "outputs": [
    {
     "name": "stdout",
     "output_type": "stream",
     "text": [
      "CLIPModel(\n",
      "  (text_model): CLIPTextTransformer(\n",
      "    (embeddings): CLIPTextEmbeddings(\n",
      "      (token_embedding): Embedding(49408, 768)\n",
      "      (position_embedding): Embedding(77, 768)\n",
      "    )\n",
      "    (encoder): CLIPEncoder(\n",
      "      (layers): ModuleList(\n",
      "        (0-11): 12 x CLIPEncoderLayer(\n",
      "          (self_attn): CLIPSdpaAttention(\n",
      "            (k_proj): Linear(in_features=768, out_features=768, bias=True)\n",
      "            (v_proj): Linear(in_features=768, out_features=768, bias=True)\n",
      "            (q_proj): Linear(in_features=768, out_features=768, bias=True)\n",
      "            (out_proj): Linear(in_features=768, out_features=768, bias=True)\n",
      "          )\n",
      "          (layer_norm1): LayerNorm((768,), eps=1e-05, elementwise_affine=True)\n",
      "          (mlp): CLIPMLP(\n",
      "            (activation_fn): QuickGELUActivation()\n",
      "            (fc1): Linear(in_features=768, out_features=3072, bias=True)\n",
      "            (fc2): Linear(in_features=3072, out_features=768, bias=True)\n",
      "          )\n",
      "          (layer_norm2): LayerNorm((768,), eps=1e-05, elementwise_affine=True)\n",
      "        )\n",
      "      )\n",
      "    )\n",
      "    (final_layer_norm): LayerNorm((768,), eps=1e-05, elementwise_affine=True)\n",
      "  )\n",
      "  (vision_model): CLIPVisionTransformer(\n",
      "    (embeddings): CLIPVisionEmbeddings(\n",
      "      (patch_embedding): Conv2d(3, 1024, kernel_size=(14, 14), stride=(14, 14), bias=False)\n",
      "      (position_embedding): Embedding(577, 1024)\n",
      "    )\n",
      "    (pre_layrnorm): LayerNorm((1024,), eps=1e-05, elementwise_affine=True)\n",
      "    (encoder): CLIPEncoder(\n",
      "      (layers): ModuleList(\n",
      "        (0-23): 24 x CLIPEncoderLayer(\n",
      "          (self_attn): CLIPSdpaAttention(\n",
      "            (k_proj): Linear(in_features=1024, out_features=1024, bias=True)\n",
      "            (v_proj): Linear(in_features=1024, out_features=1024, bias=True)\n",
      "            (q_proj): Linear(in_features=1024, out_features=1024, bias=True)\n",
      "            (out_proj): Linear(in_features=1024, out_features=1024, bias=True)\n",
      "          )\n",
      "          (layer_norm1): LayerNorm((1024,), eps=1e-05, elementwise_affine=True)\n",
      "          (mlp): CLIPMLP(\n",
      "            (activation_fn): QuickGELUActivation()\n",
      "            (fc1): Linear(in_features=1024, out_features=4096, bias=True)\n",
      "            (fc2): Linear(in_features=4096, out_features=1024, bias=True)\n",
      "          )\n",
      "          (layer_norm2): LayerNorm((1024,), eps=1e-05, elementwise_affine=True)\n",
      "        )\n",
      "      )\n",
      "    )\n",
      "    (post_layernorm): LayerNorm((1024,), eps=1e-05, elementwise_affine=True)\n",
      "  )\n",
      "  (visual_projection): Linear(in_features=1024, out_features=768, bias=False)\n",
      "  (text_projection): Linear(in_features=768, out_features=768, bias=False)\n",
      ")\n"
     ]
    }
   ],
   "source": [
    "print (CLIP)"
   ]
  },
  {
   "cell_type": "code",
   "execution_count": 59,
   "id": "1ced87df",
   "metadata": {},
   "outputs": [
    {
     "name": "stdout",
     "output_type": "stream",
     "text": [
      "LlamaForCausalLM(\n",
      "  (model): LlamaModel(\n",
      "    (embed_tokens): Embedding(128256, 2048)\n",
      "    (layers): ModuleList(\n",
      "      (0-15): 16 x LlamaDecoderLayer(\n",
      "        (self_attn): LlamaAttention(\n",
      "          (q_proj): Linear(in_features=2048, out_features=2048, bias=False)\n",
      "          (k_proj): Linear(in_features=2048, out_features=512, bias=False)\n",
      "          (v_proj): Linear(in_features=2048, out_features=512, bias=False)\n",
      "          (o_proj): Linear(in_features=2048, out_features=2048, bias=False)\n",
      "        )\n",
      "        (mlp): LlamaMLP(\n",
      "          (gate_proj): Linear(in_features=2048, out_features=8192, bias=False)\n",
      "          (up_proj): Linear(in_features=2048, out_features=8192, bias=False)\n",
      "          (down_proj): Linear(in_features=8192, out_features=2048, bias=False)\n",
      "          (act_fn): SiLU()\n",
      "        )\n",
      "        (input_layernorm): LlamaRMSNorm((2048,), eps=1e-05)\n",
      "        (post_attention_layernorm): LlamaRMSNorm((2048,), eps=1e-05)\n",
      "      )\n",
      "    )\n",
      "    (norm): LlamaRMSNorm((2048,), eps=1e-05)\n",
      "    (rotary_emb): LlamaRotaryEmbedding()\n",
      "  )\n",
      "  (lm_head): Linear(in_features=2048, out_features=128256, bias=False)\n",
      ")\n"
     ]
    }
   ],
   "source": [
    "print(llama)"
   ]
  },
  {
   "cell_type": "code",
   "execution_count": 63,
   "id": "7d0cb3f0",
   "metadata": {},
   "outputs": [],
   "source": [
    "lora_config = LoraConfig(\n",
    "    r=8,\n",
    "    lora_alpha=16,\n",
    "    lora_dropout=0.05,\n",
    "    bias=\"none\",\n",
    "    task_type=TaskType.CAUSAL_LM,\n",
    "    target_modules=[\"q_proj\", \"v_proj\"]  # Typical for LLaMA\n",
    ")\n",
    "\n",
    "llama_with_lora = get_peft_model(llama, lora_config)"
   ]
  },
  {
   "cell_type": "code",
   "execution_count": 64,
   "id": "199ba26b",
   "metadata": {},
   "outputs": [
    {
     "name": "stdout",
     "output_type": "stream",
     "text": [
      "trainable params: 851,968 || all params: 1,236,666,368 || trainable%: 0.0689\n"
     ]
    }
   ],
   "source": [
    "llama_with_lora.print_trainable_parameters()"
   ]
  },
  {
   "cell_type": "code",
   "execution_count": 65,
   "id": "56185ac4",
   "metadata": {},
   "outputs": [],
   "source": [
    "class captioning(nn.Module):\n",
    "    def __init__(self, CLIP, llama):\n",
    "        super().__init__()\n",
    "        self.CLIP = CLIP\n",
    "        self.llama = llama\n",
    "        self.mlp = nn.Sequential(\n",
    "            nn.Linear(768,1024),\n",
    "            nn.GELU(),\n",
    "            nn.Dropout(0.1),\n",
    "            nn.Linear(1024,2048),\n",
    "            nn.LayerNorm(2048)\n",
    "        )\n",
    "\n",
    "    def forward(self, image, input_ids, attention_mask):\n",
    "        # Encode image with CLIP\n",
    "        with torch.no_grad():\n",
    "            image_embed = self.CLIP.get_image_features(pixel_values=image)\n",
    "\n",
    "        image_token = self.mlp(image_embed).unsqueeze(1)  # [B, 1, D]\n",
    "\n",
    "        # Embed input_ids via LLaMA embedding layer\n",
    "        input_embeds = self.llama.model.embed_tokens(input_ids)\n",
    "\n",
    "        # Concatenate image token and text tokens\n",
    "        inputs_embeds = torch.cat([image_token, input_embeds], dim=1)\n",
    "\n",
    "        # Adjust attention mask\n",
    "        extended_mask = torch.cat([\n",
    "            torch.ones(image_token.shape[0], 1, device=image_token.device),  # [B, 1]\n",
    "            attention_mask\n",
    "        ], dim=1)\n",
    "\n",
    "        return self.llama(\n",
    "            inputs_embeds=inputs_embeds,\n",
    "            attention_mask=extended_mask\n",
    "        )"
   ]
  },
  {
   "cell_type": "code",
   "execution_count": null,
   "id": "eb8595d6",
   "metadata": {},
   "outputs": [],
   "source": [
    "def train(model, dataloader, optimizer, device, epochs=3):\n",
    "    model.train()\n",
    "    model.to(device)\n",
    "\n",
    "    loss_fn = nn.CrossEntropyLoss(ignore_index=-100)  # ignore padding\n",
    "\n",
    "    for epoch in range(epochs):\n",
    "        total_loss = 0\n",
    "\n",
    "        pbar = tqdm(dataloader, desc=f\"Epoch {epoch+1}\")\n",
    "        for batch in pbar:\n",
    "            pixel_values = batch[\"pixel_values\"].to(device)\n",
    "            input_ids = batch[\"input_ids\"].to(device)\n",
    "            attention_mask = batch[\"attention_mask\"].to(device)\n",
    "\n",
    "            # Shift labels for causal loss\n",
    "            labels = input_ids.clone()\n",
    "            labels[:, :-1] = input_ids[:, 1:]\n",
    "            labels[:, -1] = -100  # ignore the last token\n",
    "\n",
    "            outputs = model(\n",
    "                image=pixel_values,\n",
    "                input_ids=input_ids,\n",
    "                attention_mask=attention_mask\n",
    "            )\n",
    "\n",
    "            logits = outputs.logits  # shape [B, T, V]\n",
    "            loss = loss_fn(logits.view(-1, logits.size(-1)), labels.view(-1))\n",
    "\n",
    "            optimizer.zero_grad()\n",
    "            loss.backward()\n",
    "            optimizer.step()\n",
    "\n",
    "            total_loss += loss.item()\n",
    "            pbar.set_postfix(loss=loss.item())\n",
    "\n",
    "        print(f\"Epoch {epoch+1} completed. Avg Loss: {total_loss/len(dataloader):.4f}\")\n"
   ]
  }
 ],
 "metadata": {
  "kernelspec": {
   "display_name": ".venv",
   "language": "python",
   "name": "python3"
  },
  "language_info": {
   "codemirror_mode": {
    "name": "ipython",
    "version": 3
   },
   "file_extension": ".py",
   "mimetype": "text/x-python",
   "name": "python",
   "nbconvert_exporter": "python",
   "pygments_lexer": "ipython3",
   "version": "3.12.3"
  }
 },
 "nbformat": 4,
 "nbformat_minor": 5
}
