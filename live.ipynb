{
 "cells": [
  {
   "cell_type": "code",
   "execution_count": 7,
   "id": "7ff73c0a",
   "metadata": {},
   "outputs": [],
   "source": [
    "import cv2\n",
    "import time"
   ]
  },
  {
   "cell_type": "code",
   "execution_count": 2,
   "id": "256b131f",
   "metadata": {},
   "outputs": [],
   "source": [
    "# Open the default camera (0), or change to 1, 2... for other devices\n",
    "cap = cv2.VideoCapture(0)\n",
    "\n",
    "if not cap.isOpened():\n",
    "    print(\"Cannot open camera\")\n",
    "    exit()\n",
    "\n",
    "while True:\n",
    "    # Capture frame-by-frame\n",
    "    ret, frame = cap.read()\n",
    "\n",
    "    # If frame read is not successful, break\n",
    "    if not ret:\n",
    "        print(\"Can't receive frame (stream end?). Exiting ...\")\n",
    "        break\n",
    "\n",
    "    # Display the resulting frame\n",
    "    cv2.imshow('Live Video', frame)\n",
    "\n",
    "    # Break the loop on 'q' key press\n",
    "    if cv2.waitKey(1) == ord('q'):\n",
    "        break\n",
    "\n",
    "# When done, release the capture\n",
    "cap.release()\n",
    "cv2.destroyAllWindows()"
   ]
  },
  {
   "cell_type": "code",
   "execution_count": null,
   "id": "1e5708c7",
   "metadata": {},
   "outputs": [
    {
     "name": "stdout",
     "output_type": "stream",
     "text": [
      "Image saved as captured_image.jpg\n",
      "Image saved as captured_image.jpg\n",
      "Image saved as captured_image.jpg\n",
      "Image saved as captured_image.jpg\n",
      "Image saved as captured_image.jpg\n",
      "Image saved as captured_image.jpg\n",
      "Image saved as captured_image.jpg\n",
      "Image saved as captured_image.jpg\n",
      "Image saved as captured_image.jpg\n"
     ]
    }
   ],
   "source": [
    "\n",
    "cap = cv2.VideoCapture(0)\n",
    "# Wait for the camera to warm up and read one frame\n",
    "for i in range(1,10):\n",
    "    if not cap.isOpened():\n",
    "        print(\"Cannot open camera\")\n",
    "        exit()\n",
    "\n",
    "    # for _ in range(5):\n",
    "    #     cap.read()     \n",
    "    ret, frame = cap.read()\n",
    "\n",
    "\n",
    "    if ret:\n",
    "        # Save the image to disk\n",
    "        cv2.imwrite(f\"captured_image_{i}.jpg\", frame)\n",
    "        print(\"Image saved as captured_image.jpg\")\n",
    "    else:\n",
    "        print(\"Failed to capture image\")\n",
    "    #time.sleep(2)\n",
    "# Release the camera\n",
    "cap.release()\n"
   ]
  }
 ],
 "metadata": {
  "kernelspec": {
   "display_name": ".venv",
   "language": "python",
   "name": "python3"
  },
  "language_info": {
   "codemirror_mode": {
    "name": "ipython",
    "version": 3
   },
   "file_extension": ".py",
   "mimetype": "text/x-python",
   "name": "python",
   "nbconvert_exporter": "python",
   "pygments_lexer": "ipython3",
   "version": "3.12.3"
  }
 },
 "nbformat": 4,
 "nbformat_minor": 5
}
